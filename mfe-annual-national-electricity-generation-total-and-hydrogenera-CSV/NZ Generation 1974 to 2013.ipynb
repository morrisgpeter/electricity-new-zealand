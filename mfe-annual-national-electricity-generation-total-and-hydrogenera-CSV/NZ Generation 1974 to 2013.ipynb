{
 "cells": [
  {
   "cell_type": "code",
   "execution_count": 80,
   "id": "a24b4517",
   "metadata": {},
   "outputs": [],
   "source": [
    "import pandas as pd\n",
    "import matplotlib.pyplot as plt\n",
    "import numpy as np\n",
    "from matplotlib.ticker import (MultipleLocator, FormatStrFormatter,\n",
    "                               AutoMinorLocator)"
   ]
  },
  {
   "cell_type": "code",
   "execution_count": 1,
   "id": "0d943417",
   "metadata": {},
   "outputs": [
    {
     "name": "stdout",
     "output_type": "stream",
     "text": [
      "    elect_gen  year  gw_hours\n",
      "0   total_net  1974   20175.8\n",
      "1   total_net  1975   20120.3\n",
      "2   total_net  1976   21220.4\n",
      "3   total_net  1977   21792.4\n",
      "4   total_net  1978   21854.5\n",
      "..        ...   ...       ...\n",
      "75      hydro  2009   23975.6\n",
      "76      hydro  2010   24492.7\n",
      "77      hydro  2011   24868.4\n",
      "78      hydro  2012   22673.6\n",
      "79      hydro  2013   22815.4\n",
      "\n",
      "[80 rows x 3 columns]\n"
     ]
    }
   ],
   "source": [
    "df = pd.read_csv ('annual-national-electricity-generation-total-and-hydrogenera.csv')\n",
    "print(df)"
   ]
  },
  {
   "cell_type": "code",
   "execution_count": 2,
   "id": "3b26f2ee",
   "metadata": {},
   "outputs": [
    {
     "data": {
      "text/html": [
       "<div>\n",
       "<style scoped>\n",
       "    .dataframe tbody tr th:only-of-type {\n",
       "        vertical-align: middle;\n",
       "    }\n",
       "\n",
       "    .dataframe tbody tr th {\n",
       "        vertical-align: top;\n",
       "    }\n",
       "\n",
       "    .dataframe thead th {\n",
       "        text-align: right;\n",
       "    }\n",
       "</style>\n",
       "<table border=\"1\" class=\"dataframe\">\n",
       "  <thead>\n",
       "    <tr style=\"text-align: right;\">\n",
       "      <th></th>\n",
       "      <th>elect_gen</th>\n",
       "      <th>year</th>\n",
       "      <th>gw_hours</th>\n",
       "    </tr>\n",
       "  </thead>\n",
       "  <tbody>\n",
       "    <tr>\n",
       "      <th>0</th>\n",
       "      <td>total_net</td>\n",
       "      <td>1974</td>\n",
       "      <td>20175.8</td>\n",
       "    </tr>\n",
       "    <tr>\n",
       "      <th>1</th>\n",
       "      <td>total_net</td>\n",
       "      <td>1975</td>\n",
       "      <td>20120.3</td>\n",
       "    </tr>\n",
       "    <tr>\n",
       "      <th>2</th>\n",
       "      <td>total_net</td>\n",
       "      <td>1976</td>\n",
       "      <td>21220.4</td>\n",
       "    </tr>\n",
       "    <tr>\n",
       "      <th>3</th>\n",
       "      <td>total_net</td>\n",
       "      <td>1977</td>\n",
       "      <td>21792.4</td>\n",
       "    </tr>\n",
       "    <tr>\n",
       "      <th>4</th>\n",
       "      <td>total_net</td>\n",
       "      <td>1978</td>\n",
       "      <td>21854.5</td>\n",
       "    </tr>\n",
       "  </tbody>\n",
       "</table>\n",
       "</div>"
      ],
      "text/plain": [
       "   elect_gen  year  gw_hours\n",
       "0  total_net  1974   20175.8\n",
       "1  total_net  1975   20120.3\n",
       "2  total_net  1976   21220.4\n",
       "3  total_net  1977   21792.4\n",
       "4  total_net  1978   21854.5"
      ]
     },
     "execution_count": 2,
     "metadata": {},
     "output_type": "execute_result"
    }
   ],
   "source": [
    "df.head()"
   ]
  },
  {
   "cell_type": "code",
   "execution_count": 3,
   "id": "58c0cd8a",
   "metadata": {},
   "outputs": [
    {
     "data": {
      "text/html": [
       "<div>\n",
       "<style scoped>\n",
       "    .dataframe tbody tr th:only-of-type {\n",
       "        vertical-align: middle;\n",
       "    }\n",
       "\n",
       "    .dataframe tbody tr th {\n",
       "        vertical-align: top;\n",
       "    }\n",
       "\n",
       "    .dataframe thead th {\n",
       "        text-align: right;\n",
       "    }\n",
       "</style>\n",
       "<table border=\"1\" class=\"dataframe\">\n",
       "  <thead>\n",
       "    <tr style=\"text-align: right;\">\n",
       "      <th></th>\n",
       "      <th>elect_gen</th>\n",
       "      <th>year</th>\n",
       "      <th>gw_hours</th>\n",
       "    </tr>\n",
       "  </thead>\n",
       "  <tbody>\n",
       "    <tr>\n",
       "      <th>75</th>\n",
       "      <td>hydro</td>\n",
       "      <td>2009</td>\n",
       "      <td>23975.6</td>\n",
       "    </tr>\n",
       "    <tr>\n",
       "      <th>76</th>\n",
       "      <td>hydro</td>\n",
       "      <td>2010</td>\n",
       "      <td>24492.7</td>\n",
       "    </tr>\n",
       "    <tr>\n",
       "      <th>77</th>\n",
       "      <td>hydro</td>\n",
       "      <td>2011</td>\n",
       "      <td>24868.4</td>\n",
       "    </tr>\n",
       "    <tr>\n",
       "      <th>78</th>\n",
       "      <td>hydro</td>\n",
       "      <td>2012</td>\n",
       "      <td>22673.6</td>\n",
       "    </tr>\n",
       "    <tr>\n",
       "      <th>79</th>\n",
       "      <td>hydro</td>\n",
       "      <td>2013</td>\n",
       "      <td>22815.4</td>\n",
       "    </tr>\n",
       "  </tbody>\n",
       "</table>\n",
       "</div>"
      ],
      "text/plain": [
       "   elect_gen  year  gw_hours\n",
       "75     hydro  2009   23975.6\n",
       "76     hydro  2010   24492.7\n",
       "77     hydro  2011   24868.4\n",
       "78     hydro  2012   22673.6\n",
       "79     hydro  2013   22815.4"
      ]
     },
     "execution_count": 3,
     "metadata": {},
     "output_type": "execute_result"
    }
   ],
   "source": [
    "df.tail()"
   ]
  },
  {
   "cell_type": "code",
   "execution_count": 4,
   "id": "516f0fc3",
   "metadata": {},
   "outputs": [
    {
     "data": {
      "text/plain": [
       "(80, 3)"
      ]
     },
     "execution_count": 4,
     "metadata": {},
     "output_type": "execute_result"
    }
   ],
   "source": [
    "df.shape"
   ]
  },
  {
   "cell_type": "code",
   "execution_count": 5,
   "id": "14895e2c",
   "metadata": {},
   "outputs": [
    {
     "data": {
      "text/plain": [
       "elect_gen     object\n",
       "year           int64\n",
       "gw_hours     float64\n",
       "dtype: object"
      ]
     },
     "execution_count": 5,
     "metadata": {},
     "output_type": "execute_result"
    }
   ],
   "source": [
    "df.dtypes"
   ]
  },
  {
   "cell_type": "code",
   "execution_count": 6,
   "id": "1533ac33",
   "metadata": {},
   "outputs": [
    {
     "name": "stdout",
     "output_type": "stream",
     "text": [
      "<class 'pandas.core.frame.DataFrame'>\n",
      "RangeIndex: 80 entries, 0 to 79\n",
      "Data columns (total 3 columns):\n",
      " #   Column     Non-Null Count  Dtype  \n",
      "---  ------     --------------  -----  \n",
      " 0   elect_gen  80 non-null     object \n",
      " 1   year       80 non-null     int64  \n",
      " 2   gw_hours   80 non-null     float64\n",
      "dtypes: float64(1), int64(1), object(1)\n",
      "memory usage: 2.0+ KB\n"
     ]
    }
   ],
   "source": [
    "df.info()"
   ]
  },
  {
   "cell_type": "code",
   "execution_count": 8,
   "id": "eb3b5c81",
   "metadata": {},
   "outputs": [
    {
     "data": {
      "text/html": [
       "<div>\n",
       "<style scoped>\n",
       "    .dataframe tbody tr th:only-of-type {\n",
       "        vertical-align: middle;\n",
       "    }\n",
       "\n",
       "    .dataframe tbody tr th {\n",
       "        vertical-align: top;\n",
       "    }\n",
       "\n",
       "    .dataframe thead th {\n",
       "        text-align: right;\n",
       "    }\n",
       "</style>\n",
       "<table border=\"1\" class=\"dataframe\">\n",
       "  <thead>\n",
       "    <tr style=\"text-align: right;\">\n",
       "      <th></th>\n",
       "      <th>year</th>\n",
       "      <th>gw_hours</th>\n",
       "    </tr>\n",
       "  </thead>\n",
       "  <tbody>\n",
       "    <tr>\n",
       "      <th>count</th>\n",
       "      <td>80.000000</td>\n",
       "      <td>80.000000</td>\n",
       "    </tr>\n",
       "    <tr>\n",
       "      <th>mean</th>\n",
       "      <td>1993.500000</td>\n",
       "      <td>27359.800000</td>\n",
       "    </tr>\n",
       "    <tr>\n",
       "      <th>std</th>\n",
       "      <td>11.616226</td>\n",
       "      <td>8137.887698</td>\n",
       "    </tr>\n",
       "    <tr>\n",
       "      <th>min</th>\n",
       "      <td>1974.000000</td>\n",
       "      <td>14573.000000</td>\n",
       "    </tr>\n",
       "    <tr>\n",
       "      <th>25%</th>\n",
       "      <td>1983.750000</td>\n",
       "      <td>21871.150000</td>\n",
       "    </tr>\n",
       "    <tr>\n",
       "      <th>50%</th>\n",
       "      <td>1993.500000</td>\n",
       "      <td>24341.650000</td>\n",
       "    </tr>\n",
       "    <tr>\n",
       "      <th>75%</th>\n",
       "      <td>2003.250000</td>\n",
       "      <td>33525.125000</td>\n",
       "    </tr>\n",
       "    <tr>\n",
       "      <th>max</th>\n",
       "      <td>2013.000000</td>\n",
       "      <td>43405.600000</td>\n",
       "    </tr>\n",
       "  </tbody>\n",
       "</table>\n",
       "</div>"
      ],
      "text/plain": [
       "              year      gw_hours\n",
       "count    80.000000     80.000000\n",
       "mean   1993.500000  27359.800000\n",
       "std      11.616226   8137.887698\n",
       "min    1974.000000  14573.000000\n",
       "25%    1983.750000  21871.150000\n",
       "50%    1993.500000  24341.650000\n",
       "75%    2003.250000  33525.125000\n",
       "max    2013.000000  43405.600000"
      ]
     },
     "execution_count": 8,
     "metadata": {},
     "output_type": "execute_result"
    }
   ],
   "source": [
    "df.describe()"
   ]
  },
  {
   "cell_type": "code",
   "execution_count": 108,
   "id": "db32706d",
   "metadata": {},
   "outputs": [
    {
     "data": {
      "image/png": "[encoded data removed]",
      "text/plain": [
       "<Figure size 432x288 with 1 Axes>"
      ]
     },
     "metadata": {
      "needs_background": "light"
     },
     "output_type": "display_data"
    }
   ],
   "source": [
    "df.pivot(columns='elect_gen', index='year', values='gw_hours').plot(kind='line',\n",
    "                                                        ylabel= 'GWh',\n",
    "                                                        linewidth=2,\n",
    "                                                        color=['blue','black'])\n",
    "\n",
    "plt.legend(loc=0, labels=['hydro','total'])\n",
    "plt.title(\"New Zealand electricity generation from 1974 to 2013\")\n",
    "plt.show()"
   ]
  },
  {
   "cell_type": "code",
   "execution_count": 38,
   "id": "5e8999d1",
   "metadata": {},
   "outputs": [
    {
     "name": "stdout",
     "output_type": "stream",
     "text": [
      "elect_gen  year\n",
      "hydro      1974    15037.0\n",
      "           1975    16497.0\n",
      "           1976    15344.0\n",
      "           1977    14573.0\n",
      "           1978    15503.0\n",
      "                    ...   \n",
      "total_net  2009    42063.9\n",
      "           2010    43405.6\n",
      "           2011    43041.8\n",
      "           2012    42797.5\n",
      "           2013    41867.3\n",
      "Name: gw_hours, Length: 80, dtype: float64\n"
     ]
    }
   ],
   "source": [
    "# grouping the data\n",
    "df_gp = df.groupby(['elect_gen','year'])['gw_hours'].mean()\n",
    "print(df_gp)"
   ]
  },
  {
   "cell_type": "code",
   "execution_count": 40,
   "id": "004b9bc0",
   "metadata": {},
   "outputs": [
    {
     "name": "stdout",
     "output_type": "stream",
     "text": [
      "elect_gen    hydro  total_net\n",
      "year                         \n",
      "1974       15037.0    20175.8\n",
      "1975       16497.0    20120.3\n",
      "1976       15344.0    21220.4\n",
      "1977       14573.0    21792.4\n",
      "1978       15503.0    21854.5\n",
      "1979       18259.0    22174.7\n",
      "1980       19171.0    22712.7\n",
      "1981       19483.0    23291.5\n",
      "1982       18121.0    24575.9\n",
      "1983       19554.0    26141.3\n",
      "1984       20173.0    27253.6\n",
      "1985       19510.8    27688.7\n",
      "1986       21876.7    28652.1\n",
      "1987       21709.3    29020.8\n",
      "1988       22733.0    30323.3\n",
      "1989       22333.3    30547.9\n",
      "1990       22953.4    31459.4\n",
      "1991       22665.5    32409.8\n",
      "1992       20881.7    31936.4\n",
      "1993       23258.0    33358.2\n",
      "1994       25578.7    34025.9\n",
      "1995       27259.4    35249.7\n",
      "1996       25921.1    35560.0\n",
      "1997       23025.6    35993.1\n",
      "1998       25066.1    36579.3\n",
      "1999       22690.3    36643.2\n",
      "2000       24190.6    38068.7\n",
      "2001       21464.4    38218.3\n",
      "2002       24624.3    39385.8\n",
      "2003       23386.6    39454.3\n",
      "2004       26659.8    41264.2\n",
      "2005       23094.3    41493.3\n",
      "2006       23337.5    42101.5\n",
      "2007       23404.1    42268.0\n",
      "2008       22124.3    42303.4\n",
      "2009       23975.6    42063.9\n",
      "2010       24492.7    43405.6\n",
      "2011       24868.4    43041.8\n",
      "2012       22673.6    42797.5\n",
      "2013       22815.4    41867.3\n"
     ]
    }
   ],
   "source": [
    "df_gp=df_gp.unstack(level='elect_gen')\n",
    "print(df_gp)"
   ]
  },
  {
   "cell_type": "code",
   "execution_count": 41,
   "id": "5fa4a117",
   "metadata": {},
   "outputs": [
    {
     "name": "stdout",
     "output_type": "stream",
     "text": [
      "elect_gen    hydro  total_net  ratio_hydro_total\n",
      "year                                            \n",
      "1974       15037.0    20175.8           0.745299\n",
      "1975       16497.0    20120.3           0.819918\n",
      "1976       15344.0    21220.4           0.723078\n",
      "1977       14573.0    21792.4           0.668719\n",
      "1978       15503.0    21854.5           0.709373\n",
      "1979       18259.0    22174.7           0.823416\n",
      "1980       19171.0    22712.7           0.844065\n",
      "1981       19483.0    23291.5           0.836485\n",
      "1982       18121.0    24575.9           0.737348\n",
      "1983       19554.0    26141.3           0.748012\n",
      "1984       20173.0    27253.6           0.740196\n",
      "1985       19510.8    27688.7           0.704648\n",
      "1986       21876.7    28652.1           0.763529\n",
      "1987       21709.3    29020.8           0.748060\n",
      "1988       22733.0    30323.3           0.749688\n",
      "1989       22333.3    30547.9           0.731091\n",
      "1990       22953.4    31459.4           0.729620\n",
      "1991       22665.5    32409.8           0.699341\n",
      "1992       20881.7    31936.4           0.653853\n",
      "1993       23258.0    33358.2           0.697220\n",
      "1994       25578.7    34025.9           0.751742\n",
      "1995       27259.4    35249.7           0.773323\n",
      "1996       25921.1    35560.0           0.728940\n",
      "1997       23025.6    35993.1           0.639723\n",
      "1998       25066.1    36579.3           0.685254\n",
      "1999       22690.3    36643.2           0.619223\n",
      "2000       24190.6    38068.7           0.635446\n",
      "2001       21464.4    38218.3           0.561626\n",
      "2002       24624.3    39385.8           0.625208\n",
      "2003       23386.6    39454.3           0.592752\n",
      "2004       26659.8    41264.2           0.646076\n",
      "2005       23094.3    41493.3           0.556579\n",
      "2006       23337.5    42101.5           0.554315\n",
      "2007       23404.1    42268.0           0.553707\n",
      "2008       22124.3    42303.4           0.522991\n",
      "2009       23975.6    42063.9           0.569980\n",
      "2010       24492.7    43405.6           0.564275\n",
      "2011       24868.4    43041.8           0.577773\n",
      "2012       22673.6    42797.5           0.529788\n",
      "2013       22815.4    41867.3           0.544946\n"
     ]
    }
   ],
   "source": [
    "df_gp[\"ratio_hydro_total\"] = (df_gp[\"hydro\"] / df_gp[\"total_net\"])\n",
    "print(df_gp)"
   ]
  },
  {
   "cell_type": "code",
   "execution_count": 107,
   "id": "36f84693",
   "metadata": {},
   "outputs": [
    {
     "data": {
      "image/png": "[encoded data removed]",
      "text/plain": [
       "<Figure size 432x288 with 1 Axes>"
      ]
     },
     "metadata": {
      "needs_background": "light"
     },
     "output_type": "display_data"
    }
   ],
   "source": [
    "df_gp['ratio_hydro_total'].plot.bar()\n",
    "plt.title(\"New Zealand hydroelectricity generation ratio\\n 1974 - 2013\")\n",
    "plt.axhline(y=.5, color='black')\n",
    "plt.ylim(top=1)\n",
    "plt.xticks(size='x-small', rotation=90)\n",
    "plt.show()"
   ]
  },
  {
   "cell_type": "code",
   "execution_count": null,
   "id": "faf19e28",
   "metadata": {},
   "outputs": [],
   "source": []
  },
  {
   "cell_type": "code",
   "execution_count": null,
   "id": "08b73855",
   "metadata": {},
   "outputs": [],
   "source": []
  }
 ],
 "metadata": {
  "kernelspec": {
   "display_name": "Python 3",
   "language": "python",
   "name": "python3"
  },
  "language_info": {
   "codemirror_mode": {
    "name": "ipython",
    "version": 3
   },
   "file_extension": ".py",
   "mimetype": "text/x-python",
   "name": "python",
   "nbconvert_exporter": "python",
   "pygments_lexer": "ipython3",
   "version": "3.8.8"
  }
 },
 "nbformat": 4,
 "nbformat_minor": 5
}
