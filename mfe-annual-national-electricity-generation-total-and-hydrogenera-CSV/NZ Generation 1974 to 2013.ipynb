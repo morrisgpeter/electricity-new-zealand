{
 "cells": [
  {
   "cell_type": "code",
   "execution_count": 53,
   "id": "e7a82895",
   "metadata": {},
   "outputs": [
    {
     "name": "stdout",
     "output_type": "stream",
     "text": [
      "Requirement already satisfied: tabulate in /Users/petermorris/opt/anaconda3/lib/python3.8/site-packages (0.8.9)\n",
      "Note: you may need to restart the kernel to use updated packages.\n"
     ]
    }
   ],
   "source": [
    "import pandas as pd\n",
    "import matplotlib.pyplot as plt\n",
    "import numpy as np\n",
    "from matplotlib.ticker import (MultipleLocator, FormatStrFormatter,\n",
    "                               AutoMinorLocator)\n",
    "%pip install tabulate\n",
    "# pd.options.display.float_format = '{:,.2f}'.format"
   ]
  },
  {
   "cell_type": "code",
   "execution_count": 54,
   "id": "4cd2740f",
   "metadata": {},
   "outputs": [
    {
     "name": "stdout",
     "output_type": "stream",
     "text": [
      "    elect_gen  year  gw_hours\n",
      "0   total_net  1974   20175.8\n",
      "1   total_net  1975   20120.3\n",
      "2   total_net  1976   21220.4\n",
      "3   total_net  1977   21792.4\n",
      "4   total_net  1978   21854.5\n",
      "..        ...   ...       ...\n",
      "75      hydro  2009   23975.6\n",
      "76      hydro  2010   24492.7\n",
      "77      hydro  2011   24868.4\n",
      "78      hydro  2012   22673.6\n",
      "79      hydro  2013   22815.4\n",
      "\n",
      "[80 rows x 3 columns]\n"
     ]
    }
   ],
   "source": [
    "df = pd.read_csv ('annual-national-electricity-generation-total-and-hydrogenera.csv')\n",
    "print(df)"
   ]
  },
  {
   "cell_type": "code",
   "execution_count": 55,
   "id": "9a2bd2cc",
   "metadata": {},
   "outputs": [
    {
     "data": {
      "text/html": [
       "<div>\n",
       "<style scoped>\n",
       "    .dataframe tbody tr th:only-of-type {\n",
       "        vertical-align: middle;\n",
       "    }\n",
       "\n",
       "    .dataframe tbody tr th {\n",
       "        vertical-align: top;\n",
       "    }\n",
       "\n",
       "    .dataframe thead th {\n",
       "        text-align: right;\n",
       "    }\n",
       "</style>\n",
       "<table border=\"1\" class=\"dataframe\">\n",
       "  <thead>\n",
       "    <tr style=\"text-align: right;\">\n",
       "      <th></th>\n",
       "      <th>elect_gen</th>\n",
       "      <th>year</th>\n",
       "      <th>gw_hours</th>\n",
       "    </tr>\n",
       "  </thead>\n",
       "  <tbody>\n",
       "    <tr>\n",
       "      <th>0</th>\n",
       "      <td>total_net</td>\n",
       "      <td>1974</td>\n",
       "      <td>20175.8</td>\n",
       "    </tr>\n",
       "    <tr>\n",
       "      <th>1</th>\n",
       "      <td>total_net</td>\n",
       "      <td>1975</td>\n",
       "      <td>20120.3</td>\n",
       "    </tr>\n",
       "    <tr>\n",
       "      <th>2</th>\n",
       "      <td>total_net</td>\n",
       "      <td>1976</td>\n",
       "      <td>21220.4</td>\n",
       "    </tr>\n",
       "    <tr>\n",
       "      <th>3</th>\n",
       "      <td>total_net</td>\n",
       "      <td>1977</td>\n",
       "      <td>21792.4</td>\n",
       "    </tr>\n",
       "    <tr>\n",
       "      <th>4</th>\n",
       "      <td>total_net</td>\n",
       "      <td>1978</td>\n",
       "      <td>21854.5</td>\n",
       "    </tr>\n",
       "  </tbody>\n",
       "</table>\n",
       "</div>"
      ],
      "text/plain": [
       "   elect_gen  year  gw_hours\n",
       "0  total_net  1974   20175.8\n",
       "1  total_net  1975   20120.3\n",
       "2  total_net  1976   21220.4\n",
       "3  total_net  1977   21792.4\n",
       "4  total_net  1978   21854.5"
      ]
     },
     "execution_count": 55,
     "metadata": {},
     "output_type": "execute_result"
    }
   ],
   "source": [
    "df.head()"
   ]
  },
  {
   "cell_type": "code",
   "execution_count": 56,
   "id": "75c6e1ed",
   "metadata": {},
   "outputs": [
    {
     "data": {
      "text/html": [
       "<div>\n",
       "<style scoped>\n",
       "    .dataframe tbody tr th:only-of-type {\n",
       "        vertical-align: middle;\n",
       "    }\n",
       "\n",
       "    .dataframe tbody tr th {\n",
       "        vertical-align: top;\n",
       "    }\n",
       "\n",
       "    .dataframe thead th {\n",
       "        text-align: right;\n",
       "    }\n",
       "</style>\n",
       "<table border=\"1\" class=\"dataframe\">\n",
       "  <thead>\n",
       "    <tr style=\"text-align: right;\">\n",
       "      <th></th>\n",
       "      <th>elect_gen</th>\n",
       "      <th>year</th>\n",
       "      <th>gw_hours</th>\n",
       "    </tr>\n",
       "  </thead>\n",
       "  <tbody>\n",
       "    <tr>\n",
       "      <th>75</th>\n",
       "      <td>hydro</td>\n",
       "      <td>2009</td>\n",
       "      <td>23975.6</td>\n",
       "    </tr>\n",
       "    <tr>\n",
       "      <th>76</th>\n",
       "      <td>hydro</td>\n",
       "      <td>2010</td>\n",
       "      <td>24492.7</td>\n",
       "    </tr>\n",
       "    <tr>\n",
       "      <th>77</th>\n",
       "      <td>hydro</td>\n",
       "      <td>2011</td>\n",
       "      <td>24868.4</td>\n",
       "    </tr>\n",
       "    <tr>\n",
       "      <th>78</th>\n",
       "      <td>hydro</td>\n",
       "      <td>2012</td>\n",
       "      <td>22673.6</td>\n",
       "    </tr>\n",
       "    <tr>\n",
       "      <th>79</th>\n",
       "      <td>hydro</td>\n",
       "      <td>2013</td>\n",
       "      <td>22815.4</td>\n",
       "    </tr>\n",
       "  </tbody>\n",
       "</table>\n",
       "</div>"
      ],
      "text/plain": [
       "   elect_gen  year  gw_hours\n",
       "75     hydro  2009   23975.6\n",
       "76     hydro  2010   24492.7\n",
       "77     hydro  2011   24868.4\n",
       "78     hydro  2012   22673.6\n",
       "79     hydro  2013   22815.4"
      ]
     },
     "execution_count": 56,
     "metadata": {},
     "output_type": "execute_result"
    }
   ],
   "source": [
    "df.tail()"
   ]
  },
  {
   "cell_type": "code",
   "execution_count": 57,
   "id": "379d5781",
   "metadata": {},
   "outputs": [
    {
     "data": {
      "text/plain": [
       "(80, 3)"
      ]
     },
     "execution_count": 57,
     "metadata": {},
     "output_type": "execute_result"
    }
   ],
   "source": [
    "df.shape"
   ]
  },
  {
   "cell_type": "code",
   "execution_count": 58,
   "id": "c74ad90c",
   "metadata": {},
   "outputs": [
    {
     "data": {
      "text/plain": [
       "elect_gen     object\n",
       "year           int64\n",
       "gw_hours     float64\n",
       "dtype: object"
      ]
     },
     "execution_count": 58,
     "metadata": {},
     "output_type": "execute_result"
    }
   ],
   "source": [
    "df.dtypes"
   ]
  },
  {
   "cell_type": "code",
   "execution_count": 59,
   "id": "4bb5bad5",
   "metadata": {},
   "outputs": [
    {
     "name": "stdout",
     "output_type": "stream",
     "text": [
      "<class 'pandas.core.frame.DataFrame'>\n",
      "RangeIndex: 80 entries, 0 to 79\n",
      "Data columns (total 3 columns):\n",
      " #   Column     Non-Null Count  Dtype  \n",
      "---  ------     --------------  -----  \n",
      " 0   elect_gen  80 non-null     object \n",
      " 1   year       80 non-null     int64  \n",
      " 2   gw_hours   80 non-null     float64\n",
      "dtypes: float64(1), int64(1), object(1)\n",
      "memory usage: 2.0+ KB\n"
     ]
    }
   ],
   "source": [
    "df.info()"
   ]
  },
  {
   "cell_type": "code",
   "execution_count": 60,
   "id": "9bb48cdf",
   "metadata": {},
   "outputs": [
    {
     "data": {
      "text/html": [
       "<div>\n",
       "<style scoped>\n",
       "    .dataframe tbody tr th:only-of-type {\n",
       "        vertical-align: middle;\n",
       "    }\n",
       "\n",
       "    .dataframe tbody tr th {\n",
       "        vertical-align: top;\n",
       "    }\n",
       "\n",
       "    .dataframe thead th {\n",
       "        text-align: right;\n",
       "    }\n",
       "</style>\n",
       "<table border=\"1\" class=\"dataframe\">\n",
       "  <thead>\n",
       "    <tr style=\"text-align: right;\">\n",
       "      <th></th>\n",
       "      <th>year</th>\n",
       "      <th>gw_hours</th>\n",
       "    </tr>\n",
       "  </thead>\n",
       "  <tbody>\n",
       "    <tr>\n",
       "      <th>count</th>\n",
       "      <td>80.000000</td>\n",
       "      <td>80.000000</td>\n",
       "    </tr>\n",
       "    <tr>\n",
       "      <th>mean</th>\n",
       "      <td>1993.500000</td>\n",
       "      <td>27359.800000</td>\n",
       "    </tr>\n",
       "    <tr>\n",
       "      <th>std</th>\n",
       "      <td>11.616226</td>\n",
       "      <td>8137.887698</td>\n",
       "    </tr>\n",
       "    <tr>\n",
       "      <th>min</th>\n",
       "      <td>1974.000000</td>\n",
       "      <td>14573.000000</td>\n",
       "    </tr>\n",
       "    <tr>\n",
       "      <th>25%</th>\n",
       "      <td>1983.750000</td>\n",
       "      <td>21871.150000</td>\n",
       "    </tr>\n",
       "    <tr>\n",
       "      <th>50%</th>\n",
       "      <td>1993.500000</td>\n",
       "      <td>24341.650000</td>\n",
       "    </tr>\n",
       "    <tr>\n",
       "      <th>75%</th>\n",
       "      <td>2003.250000</td>\n",
       "      <td>33525.125000</td>\n",
       "    </tr>\n",
       "    <tr>\n",
       "      <th>max</th>\n",
       "      <td>2013.000000</td>\n",
       "      <td>43405.600000</td>\n",
       "    </tr>\n",
       "  </tbody>\n",
       "</table>\n",
       "</div>"
      ],
      "text/plain": [
       "              year      gw_hours\n",
       "count    80.000000     80.000000\n",
       "mean   1993.500000  27359.800000\n",
       "std      11.616226   8137.887698\n",
       "min    1974.000000  14573.000000\n",
       "25%    1983.750000  21871.150000\n",
       "50%    1993.500000  24341.650000\n",
       "75%    2003.250000  33525.125000\n",
       "max    2013.000000  43405.600000"
      ]
     },
     "execution_count": 60,
     "metadata": {},
     "output_type": "execute_result"
    }
   ],
   "source": [
    "df.describe()"
   ]
  },
  {
   "cell_type": "markdown",
   "id": "c6339b03",
   "metadata": {},
   "source": [
    "## Colors\n",
    "\n",
    "- #0E5C26 wind, renewable\n",
    "- #F5BF22 solar\n",
    "- #AC59C1 geothermal, waste heat (renewable)\n",
    "- #5294F6 hydro\n",
    "- #F57D34 bioenergy, wood\n",
    "- #A17F40 oil\n",
    "- #6E6E6E coal \n",
    "- #AD362D gas"
   ]
  },
  {
   "cell_type": "code",
   "execution_count": 61,
   "id": "d3a37691",
   "metadata": {},
   "outputs": [],
   "source": [
    "graph_style = 'Solarize_Light2'\n",
    "# graph_style = 'ggplot'\n",
    "# graph_style = 'seaborn-whitegrid'\n",
    "\n",
    "wind  = '#0E5C26'\n",
    "solar = '#F5BF22'\n",
    "geo   = '#AC59C1'\n",
    "hydro = '#5294F6'\n",
    "bio   = '#F57D34'\n",
    "oil   = '#A17F40'\n",
    "coal  = '#6E6E6E'\n",
    "gas   = '#AD362D'"
   ]
  },
  {
   "cell_type": "code",
   "execution_count": 62,
   "id": "39946874",
   "metadata": {},
   "outputs": [
    {
     "data": {
      "image/png": "[encoded data removed]",
      "text/plain": [
       "<Figure size 432x288 with 1 Axes>"
      ]
     },
     "metadata": {},
     "output_type": "display_data"
    }
   ],
   "source": [
    "with plt.style.context(style=graph_style):\n",
    "    df.pivot(columns='elect_gen', index='year', values='gw_hours').plot(kind='line',\n",
    "                                                        ylabel= 'GWh',\n",
    "                                                        linewidth=2,\n",
    "                                                        color=[hydro,'black'])\n",
    "\n",
    "    plt.xlabel('Year', fontsize='medium')\n",
    "    plt.ylabel('GWh', fontsize='medium')\n",
    "    plt.legend(loc = 'upper left', fontsize='x-small')\n",
    "    plt.title('Annual New Zealand electricity generation \\nMinistry for the Environment 1974 - 2013',\n",
    "              fontsize='large', loc='left')\n",
    "    plt.gca().yaxis.set_major_formatter(plt.matplotlib.ticker.StrMethodFormatter('{x:,.0f}'))\n",
    "    \n",
    "plt.show()"
   ]
  },
  {
   "cell_type": "code",
   "execution_count": 63,
   "id": "54888625",
   "metadata": {},
   "outputs": [
    {
     "name": "stdout",
     "output_type": "stream",
     "text": [
      "elect_gen  year\n",
      "hydro      1974    15037.0\n",
      "           1975    16497.0\n",
      "           1976    15344.0\n",
      "           1977    14573.0\n",
      "           1978    15503.0\n",
      "                    ...   \n",
      "total_net  2009    42063.9\n",
      "           2010    43405.6\n",
      "           2011    43041.8\n",
      "           2012    42797.5\n",
      "           2013    41867.3\n",
      "Name: gw_hours, Length: 80, dtype: float64\n"
     ]
    }
   ],
   "source": [
    "# grouping the data\n",
    "df_gp = df.groupby(['elect_gen','year'])['gw_hours'].mean()\n",
    "print(df_gp)"
   ]
  },
  {
   "cell_type": "code",
   "execution_count": 64,
   "id": "f8201dec",
   "metadata": {},
   "outputs": [
    {
     "data": {
      "text/html": [
       "<div>\n",
       "<style scoped>\n",
       "    .dataframe tbody tr th:only-of-type {\n",
       "        vertical-align: middle;\n",
       "    }\n",
       "\n",
       "    .dataframe tbody tr th {\n",
       "        vertical-align: top;\n",
       "    }\n",
       "\n",
       "    .dataframe thead th {\n",
       "        text-align: right;\n",
       "    }\n",
       "</style>\n",
       "<table border=\"1\" class=\"dataframe\">\n",
       "  <thead>\n",
       "    <tr style=\"text-align: right;\">\n",
       "      <th>elect_gen</th>\n",
       "      <th>hydro</th>\n",
       "      <th>total_net</th>\n",
       "    </tr>\n",
       "    <tr>\n",
       "      <th>year</th>\n",
       "      <th></th>\n",
       "      <th></th>\n",
       "    </tr>\n",
       "  </thead>\n",
       "  <tbody>\n",
       "    <tr>\n",
       "      <th>1974</th>\n",
       "      <td>15037.0</td>\n",
       "      <td>20175.8</td>\n",
       "    </tr>\n",
       "    <tr>\n",
       "      <th>1975</th>\n",
       "      <td>16497.0</td>\n",
       "      <td>20120.3</td>\n",
       "    </tr>\n",
       "    <tr>\n",
       "      <th>1976</th>\n",
       "      <td>15344.0</td>\n",
       "      <td>21220.4</td>\n",
       "    </tr>\n",
       "    <tr>\n",
       "      <th>1977</th>\n",
       "      <td>14573.0</td>\n",
       "      <td>21792.4</td>\n",
       "    </tr>\n",
       "    <tr>\n",
       "      <th>1978</th>\n",
       "      <td>15503.0</td>\n",
       "      <td>21854.5</td>\n",
       "    </tr>\n",
       "  </tbody>\n",
       "</table>\n",
       "</div>"
      ],
      "text/plain": [
       "elect_gen    hydro  total_net\n",
       "year                         \n",
       "1974       15037.0    20175.8\n",
       "1975       16497.0    20120.3\n",
       "1976       15344.0    21220.4\n",
       "1977       14573.0    21792.4\n",
       "1978       15503.0    21854.5"
      ]
     },
     "execution_count": 64,
     "metadata": {},
     "output_type": "execute_result"
    }
   ],
   "source": [
    "df_gp=df_gp.unstack(level='elect_gen')\n",
    "df_gp.head()"
   ]
  },
  {
   "cell_type": "code",
   "execution_count": 65,
   "id": "d3435ae2",
   "metadata": {},
   "outputs": [
    {
     "data": {
      "text/html": [
       "<div>\n",
       "<style scoped>\n",
       "    .dataframe tbody tr th:only-of-type {\n",
       "        vertical-align: middle;\n",
       "    }\n",
       "\n",
       "    .dataframe tbody tr th {\n",
       "        vertical-align: top;\n",
       "    }\n",
       "\n",
       "    .dataframe thead th {\n",
       "        text-align: right;\n",
       "    }\n",
       "</style>\n",
       "<table border=\"1\" class=\"dataframe\">\n",
       "  <thead>\n",
       "    <tr style=\"text-align: right;\">\n",
       "      <th>elect_gen</th>\n",
       "      <th>hydro</th>\n",
       "      <th>total_net</th>\n",
       "      <th>ratio_hydro_total</th>\n",
       "    </tr>\n",
       "    <tr>\n",
       "      <th>year</th>\n",
       "      <th></th>\n",
       "      <th></th>\n",
       "      <th></th>\n",
       "    </tr>\n",
       "  </thead>\n",
       "  <tbody>\n",
       "    <tr>\n",
       "      <th>1974</th>\n",
       "      <td>15037.0</td>\n",
       "      <td>20175.8</td>\n",
       "      <td>0.745299</td>\n",
       "    </tr>\n",
       "    <tr>\n",
       "      <th>1975</th>\n",
       "      <td>16497.0</td>\n",
       "      <td>20120.3</td>\n",
       "      <td>0.819918</td>\n",
       "    </tr>\n",
       "    <tr>\n",
       "      <th>1976</th>\n",
       "      <td>15344.0</td>\n",
       "      <td>21220.4</td>\n",
       "      <td>0.723078</td>\n",
       "    </tr>\n",
       "    <tr>\n",
       "      <th>1977</th>\n",
       "      <td>14573.0</td>\n",
       "      <td>21792.4</td>\n",
       "      <td>0.668719</td>\n",
       "    </tr>\n",
       "    <tr>\n",
       "      <th>1978</th>\n",
       "      <td>15503.0</td>\n",
       "      <td>21854.5</td>\n",
       "      <td>0.709373</td>\n",
       "    </tr>\n",
       "  </tbody>\n",
       "</table>\n",
       "</div>"
      ],
      "text/plain": [
       "elect_gen    hydro  total_net  ratio_hydro_total\n",
       "year                                            \n",
       "1974       15037.0    20175.8           0.745299\n",
       "1975       16497.0    20120.3           0.819918\n",
       "1976       15344.0    21220.4           0.723078\n",
       "1977       14573.0    21792.4           0.668719\n",
       "1978       15503.0    21854.5           0.709373"
      ]
     },
     "execution_count": 65,
     "metadata": {},
     "output_type": "execute_result"
    }
   ],
   "source": [
    "df_gp[\"ratio_hydro_total\"] = (df_gp[\"hydro\"] / df_gp[\"total_net\"])\n",
    "df_gp.head()"
   ]
  },
  {
   "cell_type": "code",
   "execution_count": 66,
   "id": "c4589282",
   "metadata": {},
   "outputs": [
    {
     "data": {
      "text/plain": [
       "['hydro', 'total_net', 'ratio_hydro_total']"
      ]
     },
     "execution_count": 66,
     "metadata": {},
     "output_type": "execute_result"
    }
   ],
   "source": [
    "list(df_gp)"
   ]
  },
  {
   "cell_type": "code",
   "execution_count": 81,
   "id": "a8a728a1",
   "metadata": {},
   "outputs": [
    {
     "data": {
      "image/png": "[encoded data removed]",
      "text/plain": [
       "<Figure size 432x288 with 1 Axes>"
      ]
     },
     "metadata": {},
     "output_type": "display_data"
    }
   ],
   "source": [
    "with plt.style.context(style=graph_style):\n",
    "    #plt.bar(df_gp['elect_gen']['year'], df_gp['ratio_hydro_total'], color=hydro)\n",
    "    df_gp['ratio_hydro_total'].plot.bar(color=hydro)\n",
    "    plt.title('Annual New Zealand hydroelectricity generation ratio\\nMinistry for the Environment 1974 - 2013',\n",
    "              fontsize='large', loc='left')\n",
    "    plt.axhline(y=.5, color='white')\n",
    "    plt.ylim(top=1)\n",
    "    plt.xlim((0, 40))\n",
    "    plt.xlabel('Year', fontsize='medium')\n",
    "    plt.ylabel('hydro/ total', fontsize='medium')\n",
    "    #plt.xticks(size='x-small', rotation=90)\n",
    "\n",
    "plt.show()"
   ]
  },
  {
   "cell_type": "code",
   "execution_count": 82,
   "id": "fafb39ed",
   "metadata": {},
   "outputs": [
    {
     "data": {
      "image/png": "[encoded data removed]",
      "text/plain": [
       "<Figure size 432x288 with 1 Axes>"
      ]
     },
     "metadata": {},
     "output_type": "display_data"
    }
   ],
   "source": [
    "with plt.style.context(style=graph_style):\n",
    "    df_gp['ratio_hydro_total'].plot.bar(color=hydro)\n",
    "    plt.title('Annual New Zealand hydroelectricity generation ratio\\nMinistry for the Environment 1974 - 2013',\n",
    "              fontsize='large', loc='left')\n",
    "    plt.axhline(y=.5, color='white')\n",
    "    plt.ylim(top=1)\n",
    "    plt.xlim((0, 40))\n",
    "    plt.xlabel('Year', fontsize='medium')\n",
    "    plt.ylabel('hydro/ total', fontsize='medium')\n",
    "    plt.xticks(size='x-small', rotation=90)\n",
    "\n",
    "plt.show()"
   ]
  },
  {
   "cell_type": "code",
   "execution_count": null,
   "id": "35cac4cc",
   "metadata": {},
   "outputs": [],
   "source": [
    "print(df_gp.to_markdown(floatfmt=\",.2f\"))"
   ]
  },
  {
   "cell_type": "code",
   "execution_count": null,
   "id": "d84f1df2",
   "metadata": {},
   "outputs": [],
   "source": []
  }
 ],
 "metadata": {
  "kernelspec": {
   "display_name": "Python 3",
   "language": "python",
   "name": "python3"
  },
  "language_info": {
   "codemirror_mode": {
    "name": "ipython",
    "version": 3
   },
   "file_extension": ".py",
   "mimetype": "text/x-python",
   "name": "python",
   "nbconvert_exporter": "python",
   "pygments_lexer": "ipython3",
   "version": "3.8.8"
  }
 },
 "nbformat": 4,
 "nbformat_minor": 5
}
